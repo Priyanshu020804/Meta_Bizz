{
  "nbformat": 4,
  "nbformat_minor": 0,
  "metadata": {
    "colab": {
      "provenance": []
    },
    "kernelspec": {
      "name": "python3",
      "display_name": "Python 3"
    },
    "language_info": {
      "name": "python"
    }
  },
  "cells": [
    {
      "cell_type": "code",
      "execution_count": 89,
      "metadata": {
        "id": "E_K8fwotXZXp",
        "colab": {
          "base_uri": "https://localhost:8080/"
        },
        "outputId": "fcce2e6a-e3fc-4d7e-e26d-00fcb9df015e"
      },
      "outputs": [
        {
          "output_type": "stream",
          "name": "stdout",
          "text": [
            "Drive already mounted at /content/drive; to attempt to forcibly remount, call drive.mount(\"/content/drive\", force_remount=True).\n"
          ]
        }
      ],
      "source": [
        "# connecting to google drive where train and test files are uploaded\n",
        "from google.colab import drive\n",
        "drive.mount('/content/drive')"
      ]
    },
    {
      "cell_type": "code",
      "source": [
        "# you can run this file on google colab\n",
        "# importing required libraries\n",
        "\n",
        "import pandas as pd\n",
        "import numpy as np\n",
        "np.set_printoptions(precision=4)\n",
        "\n",
        "from scipy import stats\n",
        "from sklearn.linear_model import LinearRegression\n",
        "from sklearn.metrics import r2_score\n",
        "from sklearn.model_selection import train_test_split\n",
        "\n",
        "from sklearn.metrics import mean_squared_error\n",
        "from sklearn.metrics import mean_absolute_error"
      ],
      "metadata": {
        "id": "0o73s0uwXfgn"
      },
      "execution_count": 90,
      "outputs": []
    },
    {
      "cell_type": "code",
      "source": [
        "# reading train file\n",
        "data = pd.read_csv(\"/content/drive/MyDrive/C#oders - Meta-Bizz/train and test files/train.csv\", \n",
        "                   usecols = ['Name' ,'Crystal Structure', 'Diaphaneity', 'Specific Gravity','Optical', 'Refractive Index','Dispersion', 'Hydrated Water','count','Molar Mass', 'Molar Volume', 'Calculated Density', 'Hydrogen', 'Oxygen', 'Silicon', 'Calcium', 'Iron'])"
      ],
      "metadata": {
        "id": "HHN4Bu6vXqYh"
      },
      "execution_count": 91,
      "outputs": []
    },
    {
      "cell_type": "code",
      "source": [
        "data = data.drop(['Name'], axis=1)"
      ],
      "metadata": {
        "id": "Dz6333onhBz7"
      },
      "execution_count": 92,
      "outputs": []
    },
    {
      "cell_type": "code",
      "source": [
        "# pre-processing of train file"
      ],
      "metadata": {
        "id": "c8SFFw59KxAW"
      },
      "execution_count": 93,
      "outputs": []
    },
    {
      "cell_type": "code",
      "source": [
        "for i in range(len(data['Crystal Structure'])):\n",
        "  if data['Crystal Structure'][i] == 6:\n",
        "    data['Crystal Structure'][i] = 4"
      ],
      "metadata": {
        "id": "JVzuGh5IXwNn",
        "colab": {
          "base_uri": "https://localhost:8080/"
        },
        "outputId": "31f6ef21-13e0-4348-d4d9-8f84998bfbc1"
      },
      "execution_count": 94,
      "outputs": [
        {
          "output_type": "stream",
          "name": "stderr",
          "text": [
            "<ipython-input-94-1afff11bb71a>:3: SettingWithCopyWarning: \n",
            "A value is trying to be set on a copy of a slice from a DataFrame\n",
            "\n",
            "See the caveats in the documentation: https://pandas.pydata.org/pandas-docs/stable/user_guide/indexing.html#returning-a-view-versus-a-copy\n",
            "  data['Crystal Structure'][i] = 4\n"
          ]
        }
      ]
    },
    {
      "cell_type": "code",
      "source": [
        "data['Specific Gravity'] = (data['Specific Gravity']-data['Specific Gravity'].min())/(data['Specific Gravity'].max()-data['Specific Gravity'].min())"
      ],
      "metadata": {
        "id": "7L7yKBVaZMHd"
      },
      "execution_count": 95,
      "outputs": []
    },
    {
      "cell_type": "code",
      "source": [
        "for i in range(len(data['Optical'])):\n",
        "  if data['Optical'][i] == 1:\n",
        "    data['Optical'][i] = 2"
      ],
      "metadata": {
        "colab": {
          "base_uri": "https://localhost:8080/"
        },
        "id": "70cbF03kZmuc",
        "outputId": "6d7ec381-f2bd-43fd-cb01-99d168539e95"
      },
      "execution_count": 96,
      "outputs": [
        {
          "output_type": "stream",
          "name": "stderr",
          "text": [
            "<ipython-input-96-3f7d8c5f50dd>:3: SettingWithCopyWarning: \n",
            "A value is trying to be set on a copy of a slice from a DataFrame\n",
            "\n",
            "See the caveats in the documentation: https://pandas.pydata.org/pandas-docs/stable/user_guide/indexing.html#returning-a-view-versus-a-copy\n",
            "  data['Optical'][i] = 2\n"
          ]
        }
      ]
    },
    {
      "cell_type": "code",
      "source": [
        "data['Dispersion'] = (data['Dispersion']-data['Dispersion'].min())/(data['Dispersion'].max()-data['Dispersion'].min())"
      ],
      "metadata": {
        "id": "MxSknNxhYAbI"
      },
      "execution_count": 97,
      "outputs": []
    },
    {
      "cell_type": "code",
      "source": [
        "for i in range(len(data['Hydrated Water'])):\n",
        "  if data['Hydrated Water'][i] != 0:\n",
        "    data['Hydrated Water'][i] = 1"
      ],
      "metadata": {
        "id": "QyJTRstkcTxg",
        "colab": {
          "base_uri": "https://localhost:8080/"
        },
        "outputId": "3a8e3602-a491-4f74-d7c5-ff8b86e3bf63"
      },
      "execution_count": 98,
      "outputs": [
        {
          "output_type": "stream",
          "name": "stderr",
          "text": [
            "<ipython-input-98-1912a8958524>:3: SettingWithCopyWarning: \n",
            "A value is trying to be set on a copy of a slice from a DataFrame\n",
            "\n",
            "See the caveats in the documentation: https://pandas.pydata.org/pandas-docs/stable/user_guide/indexing.html#returning-a-view-versus-a-copy\n",
            "  data['Hydrated Water'][i] = 1\n"
          ]
        }
      ]
    },
    {
      "cell_type": "code",
      "source": [
        "data['count'] = (data['count']-data['count'].min())/(data['count'].max()-data['count'].min())"
      ],
      "metadata": {
        "id": "pbpcuPRsbNn5"
      },
      "execution_count": 99,
      "outputs": []
    },
    {
      "cell_type": "code",
      "source": [
        "data['Calculated Density'] = (data['Calculated Density']-data['Calculated Density'].min())/(data['Calculated Density'].max()-data['Calculated Density'].min())"
      ],
      "metadata": {
        "id": "Xmb6OQItboi5"
      },
      "execution_count": 100,
      "outputs": []
    },
    {
      "cell_type": "code",
      "source": [
        "data['Molar Mass'] = (data['Molar Mass']-data['Molar Mass'].min())/(data['Molar Mass'].max()-data['Molar Mass'].min())"
      ],
      "metadata": {
        "id": "V7K6iMn3cRH0"
      },
      "execution_count": 101,
      "outputs": []
    },
    {
      "cell_type": "code",
      "source": [
        "data['Hydrogen'] = (data['Hydrogen']-data['Hydrogen'].min())/(data['Hydrogen'].max()-data['Hydrogen'].min())"
      ],
      "metadata": {
        "id": "Sia_UUd2IaVA"
      },
      "execution_count": 102,
      "outputs": []
    },
    {
      "cell_type": "code",
      "source": [
        "data['Oxygen'] = (data['Oxygen']-data['Oxygen'].min())/(data['Oxygen'].max()-data['Oxygen'].min())"
      ],
      "metadata": {
        "id": "IEhRLFL_Ic9O"
      },
      "execution_count": 103,
      "outputs": []
    },
    {
      "cell_type": "code",
      "source": [
        "data['Silicon'] = (data['Silicon']-data['Silicon'].min())/(data['Silicon'].max()-data['Silicon'].min())"
      ],
      "metadata": {
        "id": "PScn2p2LIgZq"
      },
      "execution_count": 104,
      "outputs": []
    },
    {
      "cell_type": "code",
      "source": [
        "data['Calcium'] = (data['Calcium']-data['Calcium'].min())/(data['Calcium'].max()-data['Calcium'].min())"
      ],
      "metadata": {
        "id": "0r5RUa8OIi7l"
      },
      "execution_count": 105,
      "outputs": []
    },
    {
      "cell_type": "code",
      "source": [
        "data['Iron'] = (data['Iron']-data['Iron'].min())/(data['Iron'].max()-data['Iron'].min())"
      ],
      "metadata": {
        "id": "dSDio2OsIlZm"
      },
      "execution_count": 106,
      "outputs": []
    },
    {
      "cell_type": "code",
      "source": [
        "data.describe()"
      ],
      "metadata": {
        "colab": {
          "base_uri": "https://localhost:8080/",
          "height": 381
        },
        "id": "BEGpt6hsYKJZ",
        "outputId": "4a7ccf30-ef47-433e-b7ad-f2d362aabd65"
      },
      "execution_count": 107,
      "outputs": [
        {
          "output_type": "execute_result",
          "data": {
            "text/plain": [
              "       Crystal Structure  Diaphaneity  Specific Gravity     Optical  \\\n",
              "count         659.000000   659.000000        659.000000  659.000000   \n",
              "mean            2.518968     1.572079          0.289282    2.716237   \n",
              "std             1.438989     1.093867          0.209075    1.654843   \n",
              "min             0.000000     0.000000          0.000000    0.000000   \n",
              "25%             2.000000     0.000000          0.000000    2.000000   \n",
              "50%             2.000000     2.000000          0.319220    4.000000   \n",
              "75%             3.000000     2.000000          0.413306    4.000000   \n",
              "max             5.000000     3.000000          1.000000    4.000000   \n",
              "\n",
              "       Refractive Index  Dispersion    Hydrogen      Oxygen     Silicon  \\\n",
              "count        659.000000  659.000000  659.000000  659.000000  659.000000   \n",
              "mean           1.246416    0.009183    0.044880    0.065798    0.028157   \n",
              "std            0.789210    0.068053    0.113116    0.067892    0.067963   \n",
              "min            0.000000    0.000000    0.000000    0.000000    0.000000   \n",
              "25%            0.000000    0.000000    0.000000    0.027778    0.000000   \n",
              "50%            1.591000    0.000000    0.000000    0.046296    0.000000   \n",
              "75%            1.713000    0.000000    0.030303    0.083333    0.027778   \n",
              "max            3.383000    1.000000    1.000000    1.000000    1.000000   \n",
              "\n",
              "          Calcium        Iron  Hydrated Water       count  Molar Mass  \\\n",
              "count  659.000000  659.000000      659.000000  659.000000  659.000000   \n",
              "mean     0.048558    0.021750        0.189681    0.090215    0.112806   \n",
              "std      0.110466    0.062117        0.392347    0.095061    0.128842   \n",
              "min      0.000000    0.000000        0.000000    0.000000    0.000000   \n",
              "25%      0.000000    0.000000        0.000000    0.030120    0.035372   \n",
              "50%      0.000000    0.000000        0.000000    0.066265    0.071967   \n",
              "75%      0.083333    0.000000        0.000000    0.114458    0.139850   \n",
              "max      1.000000    1.000000        1.000000    1.000000    1.000000   \n",
              "\n",
              "       Molar Volume  Calculated Density  \n",
              "count    659.000000          659.000000  \n",
              "mean       0.100307            0.326990  \n",
              "std        0.099153            0.206106  \n",
              "min        0.011040            0.000000  \n",
              "25%        0.044483            0.174001  \n",
              "50%        0.078001            0.288857  \n",
              "75%        0.123329            0.435300  \n",
              "max        1.209774            1.000000  "
            ],
            "text/html": [
              "\n",
              "  <div id=\"df-64a771bb-dc0f-42ea-b0d2-3d01a3d11a64\">\n",
              "    <div class=\"colab-df-container\">\n",
              "      <div>\n",
              "<style scoped>\n",
              "    .dataframe tbody tr th:only-of-type {\n",
              "        vertical-align: middle;\n",
              "    }\n",
              "\n",
              "    .dataframe tbody tr th {\n",
              "        vertical-align: top;\n",
              "    }\n",
              "\n",
              "    .dataframe thead th {\n",
              "        text-align: right;\n",
              "    }\n",
              "</style>\n",
              "<table border=\"1\" class=\"dataframe\">\n",
              "  <thead>\n",
              "    <tr style=\"text-align: right;\">\n",
              "      <th></th>\n",
              "      <th>Crystal Structure</th>\n",
              "      <th>Diaphaneity</th>\n",
              "      <th>Specific Gravity</th>\n",
              "      <th>Optical</th>\n",
              "      <th>Refractive Index</th>\n",
              "      <th>Dispersion</th>\n",
              "      <th>Hydrogen</th>\n",
              "      <th>Oxygen</th>\n",
              "      <th>Silicon</th>\n",
              "      <th>Calcium</th>\n",
              "      <th>Iron</th>\n",
              "      <th>Hydrated Water</th>\n",
              "      <th>count</th>\n",
              "      <th>Molar Mass</th>\n",
              "      <th>Molar Volume</th>\n",
              "      <th>Calculated Density</th>\n",
              "    </tr>\n",
              "  </thead>\n",
              "  <tbody>\n",
              "    <tr>\n",
              "      <th>count</th>\n",
              "      <td>659.000000</td>\n",
              "      <td>659.000000</td>\n",
              "      <td>659.000000</td>\n",
              "      <td>659.000000</td>\n",
              "      <td>659.000000</td>\n",
              "      <td>659.000000</td>\n",
              "      <td>659.000000</td>\n",
              "      <td>659.000000</td>\n",
              "      <td>659.000000</td>\n",
              "      <td>659.000000</td>\n",
              "      <td>659.000000</td>\n",
              "      <td>659.000000</td>\n",
              "      <td>659.000000</td>\n",
              "      <td>659.000000</td>\n",
              "      <td>659.000000</td>\n",
              "      <td>659.000000</td>\n",
              "    </tr>\n",
              "    <tr>\n",
              "      <th>mean</th>\n",
              "      <td>2.518968</td>\n",
              "      <td>1.572079</td>\n",
              "      <td>0.289282</td>\n",
              "      <td>2.716237</td>\n",
              "      <td>1.246416</td>\n",
              "      <td>0.009183</td>\n",
              "      <td>0.044880</td>\n",
              "      <td>0.065798</td>\n",
              "      <td>0.028157</td>\n",
              "      <td>0.048558</td>\n",
              "      <td>0.021750</td>\n",
              "      <td>0.189681</td>\n",
              "      <td>0.090215</td>\n",
              "      <td>0.112806</td>\n",
              "      <td>0.100307</td>\n",
              "      <td>0.326990</td>\n",
              "    </tr>\n",
              "    <tr>\n",
              "      <th>std</th>\n",
              "      <td>1.438989</td>\n",
              "      <td>1.093867</td>\n",
              "      <td>0.209075</td>\n",
              "      <td>1.654843</td>\n",
              "      <td>0.789210</td>\n",
              "      <td>0.068053</td>\n",
              "      <td>0.113116</td>\n",
              "      <td>0.067892</td>\n",
              "      <td>0.067963</td>\n",
              "      <td>0.110466</td>\n",
              "      <td>0.062117</td>\n",
              "      <td>0.392347</td>\n",
              "      <td>0.095061</td>\n",
              "      <td>0.128842</td>\n",
              "      <td>0.099153</td>\n",
              "      <td>0.206106</td>\n",
              "    </tr>\n",
              "    <tr>\n",
              "      <th>min</th>\n",
              "      <td>0.000000</td>\n",
              "      <td>0.000000</td>\n",
              "      <td>0.000000</td>\n",
              "      <td>0.000000</td>\n",
              "      <td>0.000000</td>\n",
              "      <td>0.000000</td>\n",
              "      <td>0.000000</td>\n",
              "      <td>0.000000</td>\n",
              "      <td>0.000000</td>\n",
              "      <td>0.000000</td>\n",
              "      <td>0.000000</td>\n",
              "      <td>0.000000</td>\n",
              "      <td>0.000000</td>\n",
              "      <td>0.000000</td>\n",
              "      <td>0.011040</td>\n",
              "      <td>0.000000</td>\n",
              "    </tr>\n",
              "    <tr>\n",
              "      <th>25%</th>\n",
              "      <td>2.000000</td>\n",
              "      <td>0.000000</td>\n",
              "      <td>0.000000</td>\n",
              "      <td>2.000000</td>\n",
              "      <td>0.000000</td>\n",
              "      <td>0.000000</td>\n",
              "      <td>0.000000</td>\n",
              "      <td>0.027778</td>\n",
              "      <td>0.000000</td>\n",
              "      <td>0.000000</td>\n",
              "      <td>0.000000</td>\n",
              "      <td>0.000000</td>\n",
              "      <td>0.030120</td>\n",
              "      <td>0.035372</td>\n",
              "      <td>0.044483</td>\n",
              "      <td>0.174001</td>\n",
              "    </tr>\n",
              "    <tr>\n",
              "      <th>50%</th>\n",
              "      <td>2.000000</td>\n",
              "      <td>2.000000</td>\n",
              "      <td>0.319220</td>\n",
              "      <td>4.000000</td>\n",
              "      <td>1.591000</td>\n",
              "      <td>0.000000</td>\n",
              "      <td>0.000000</td>\n",
              "      <td>0.046296</td>\n",
              "      <td>0.000000</td>\n",
              "      <td>0.000000</td>\n",
              "      <td>0.000000</td>\n",
              "      <td>0.000000</td>\n",
              "      <td>0.066265</td>\n",
              "      <td>0.071967</td>\n",
              "      <td>0.078001</td>\n",
              "      <td>0.288857</td>\n",
              "    </tr>\n",
              "    <tr>\n",
              "      <th>75%</th>\n",
              "      <td>3.000000</td>\n",
              "      <td>2.000000</td>\n",
              "      <td>0.413306</td>\n",
              "      <td>4.000000</td>\n",
              "      <td>1.713000</td>\n",
              "      <td>0.000000</td>\n",
              "      <td>0.030303</td>\n",
              "      <td>0.083333</td>\n",
              "      <td>0.027778</td>\n",
              "      <td>0.083333</td>\n",
              "      <td>0.000000</td>\n",
              "      <td>0.000000</td>\n",
              "      <td>0.114458</td>\n",
              "      <td>0.139850</td>\n",
              "      <td>0.123329</td>\n",
              "      <td>0.435300</td>\n",
              "    </tr>\n",
              "    <tr>\n",
              "      <th>max</th>\n",
              "      <td>5.000000</td>\n",
              "      <td>3.000000</td>\n",
              "      <td>1.000000</td>\n",
              "      <td>4.000000</td>\n",
              "      <td>3.383000</td>\n",
              "      <td>1.000000</td>\n",
              "      <td>1.000000</td>\n",
              "      <td>1.000000</td>\n",
              "      <td>1.000000</td>\n",
              "      <td>1.000000</td>\n",
              "      <td>1.000000</td>\n",
              "      <td>1.000000</td>\n",
              "      <td>1.000000</td>\n",
              "      <td>1.000000</td>\n",
              "      <td>1.209774</td>\n",
              "      <td>1.000000</td>\n",
              "    </tr>\n",
              "  </tbody>\n",
              "</table>\n",
              "</div>\n",
              "      <button class=\"colab-df-convert\" onclick=\"convertToInteractive('df-64a771bb-dc0f-42ea-b0d2-3d01a3d11a64')\"\n",
              "              title=\"Convert this dataframe to an interactive table.\"\n",
              "              style=\"display:none;\">\n",
              "        \n",
              "  <svg xmlns=\"http://www.w3.org/2000/svg\" height=\"24px\"viewBox=\"0 0 24 24\"\n",
              "       width=\"24px\">\n",
              "    <path d=\"M0 0h24v24H0V0z\" fill=\"none\"/>\n",
              "    <path d=\"M18.56 5.44l.94 2.06.94-2.06 2.06-.94-2.06-.94-.94-2.06-.94 2.06-2.06.94zm-11 1L8.5 8.5l.94-2.06 2.06-.94-2.06-.94L8.5 2.5l-.94 2.06-2.06.94zm10 10l.94 2.06.94-2.06 2.06-.94-2.06-.94-.94-2.06-.94 2.06-2.06.94z\"/><path d=\"M17.41 7.96l-1.37-1.37c-.4-.4-.92-.59-1.43-.59-.52 0-1.04.2-1.43.59L10.3 9.45l-7.72 7.72c-.78.78-.78 2.05 0 2.83L4 21.41c.39.39.9.59 1.41.59.51 0 1.02-.2 1.41-.59l7.78-7.78 2.81-2.81c.8-.78.8-2.07 0-2.86zM5.41 20L4 18.59l7.72-7.72 1.47 1.35L5.41 20z\"/>\n",
              "  </svg>\n",
              "      </button>\n",
              "      \n",
              "  <style>\n",
              "    .colab-df-container {\n",
              "      display:flex;\n",
              "      flex-wrap:wrap;\n",
              "      gap: 12px;\n",
              "    }\n",
              "\n",
              "    .colab-df-convert {\n",
              "      background-color: #E8F0FE;\n",
              "      border: none;\n",
              "      border-radius: 50%;\n",
              "      cursor: pointer;\n",
              "      display: none;\n",
              "      fill: #1967D2;\n",
              "      height: 32px;\n",
              "      padding: 0 0 0 0;\n",
              "      width: 32px;\n",
              "    }\n",
              "\n",
              "    .colab-df-convert:hover {\n",
              "      background-color: #E2EBFA;\n",
              "      box-shadow: 0px 1px 2px rgba(60, 64, 67, 0.3), 0px 1px 3px 1px rgba(60, 64, 67, 0.15);\n",
              "      fill: #174EA6;\n",
              "    }\n",
              "\n",
              "    [theme=dark] .colab-df-convert {\n",
              "      background-color: #3B4455;\n",
              "      fill: #D2E3FC;\n",
              "    }\n",
              "\n",
              "    [theme=dark] .colab-df-convert:hover {\n",
              "      background-color: #434B5C;\n",
              "      box-shadow: 0px 1px 3px 1px rgba(0, 0, 0, 0.15);\n",
              "      filter: drop-shadow(0px 1px 2px rgba(0, 0, 0, 0.3));\n",
              "      fill: #FFFFFF;\n",
              "    }\n",
              "  </style>\n",
              "\n",
              "      <script>\n",
              "        const buttonEl =\n",
              "          document.querySelector('#df-64a771bb-dc0f-42ea-b0d2-3d01a3d11a64 button.colab-df-convert');\n",
              "        buttonEl.style.display =\n",
              "          google.colab.kernel.accessAllowed ? 'block' : 'none';\n",
              "\n",
              "        async function convertToInteractive(key) {\n",
              "          const element = document.querySelector('#df-64a771bb-dc0f-42ea-b0d2-3d01a3d11a64');\n",
              "          const dataTable =\n",
              "            await google.colab.kernel.invokeFunction('convertToInteractive',\n",
              "                                                     [key], {});\n",
              "          if (!dataTable) return;\n",
              "\n",
              "          const docLinkHtml = 'Like what you see? Visit the ' +\n",
              "            '<a target=\"_blank\" href=https://colab.research.google.com/notebooks/data_table.ipynb>data table notebook</a>'\n",
              "            + ' to learn more about interactive tables.';\n",
              "          element.innerHTML = '';\n",
              "          dataTable['output_type'] = 'display_data';\n",
              "          await google.colab.output.renderOutput(dataTable, element);\n",
              "          const docLink = document.createElement('div');\n",
              "          docLink.innerHTML = docLinkHtml;\n",
              "          element.appendChild(docLink);\n",
              "        }\n",
              "      </script>\n",
              "    </div>\n",
              "  </div>\n",
              "  "
            ]
          },
          "metadata": {},
          "execution_count": 107
        }
      ]
    },
    {
      "cell_type": "code",
      "source": [
        "# Dividing Dataset into input and output variables\n",
        "X = data.drop(['Refractive Index'], axis=1)\n",
        "y = data['Refractive Index']"
      ],
      "metadata": {
        "id": "F9hLIZznaY02"
      },
      "execution_count": 108,
      "outputs": []
    },
    {
      "cell_type": "code",
      "source": [
        "# splitting train file into X_train and X_test dataset \n",
        "X_train, X_test, y_train, y_test = train_test_split(X, y, test_size=0.2, random_state = 100)"
      ],
      "metadata": {
        "id": "h9mkKVypuOqV"
      },
      "execution_count": 109,
      "outputs": []
    },
    {
      "cell_type": "code",
      "source": [
        "# GradientBoostingRegressor (fine-tuned)\n",
        "from sklearn.ensemble import GradientBoostingRegressor\n",
        "\n",
        "model = GradientBoostingRegressor(loss='huber', n_estimators=130, learning_rate=0.1, max_depth=1, alpha=0.9)\n",
        "model.fit(X_train, y_train)\n",
        "y_pred = model.predict(X_test)"
      ],
      "metadata": {
        "id": "BEwimXbhLjWx"
      },
      "execution_count": 110,
      "outputs": []
    },
    {
      "cell_type": "code",
      "source": [
        "# checking model accuracy and error\n",
        "print(\"Mean Squared Error: \", mean_squared_error(y_test,y_pred))\n",
        "print(\"r2_score: \",r2_score(y_test,y_pred))\n",
        "print(\"mean_absolute_error: \",mean_absolute_error(y_test,y_pred))"
      ],
      "metadata": {
        "colab": {
          "base_uri": "https://localhost:8080/"
        },
        "id": "FzXK54MBwqZH",
        "outputId": "6a60f3f4-c0bc-419d-c605-cfcc6af527ac"
      },
      "execution_count": 111,
      "outputs": [
        {
          "output_type": "stream",
          "name": "stdout",
          "text": [
            "Mean Squared Error:  0.10363723458160137\n",
            "r2_score:  0.8417748704844981\n",
            "mean_absolute_error:  0.13386442400676635\n"
          ]
        }
      ]
    },
    {
      "cell_type": "code",
      "source": [
        "# reading test file\n",
        "test = pd.read_csv(\"/content/drive/MyDrive/C#oders - Meta-Bizz/train and test files/test.csv\", \n",
        "                   usecols = ['Name' ,'Crystal Structure', 'Diaphaneity', 'Specific Gravity','Optical','Dispersion', 'Hydrated Water','count','Molar Mass', 'Molar Volume','Calculated Density', 'Hydrogen', 'Oxygen', 'Silicon', 'Calcium', 'Iron'])\n",
        "\n",
        "names = test['Name']"
      ],
      "metadata": {
        "id": "Z52Lw53gwr1U"
      },
      "execution_count": 112,
      "outputs": []
    },
    {
      "cell_type": "code",
      "source": [
        "test = test.drop(['Name'], axis=1)"
      ],
      "metadata": {
        "id": "fPle9ZBRI77K"
      },
      "execution_count": 113,
      "outputs": []
    },
    {
      "cell_type": "code",
      "source": [
        "# pre-processing of test file"
      ],
      "metadata": {
        "id": "womeBvbwLocc"
      },
      "execution_count": 114,
      "outputs": []
    },
    {
      "cell_type": "code",
      "source": [
        "for i in range(len(test['Crystal Structure'])):\n",
        "  if test['Crystal Structure'][i] == 6:\n",
        "    test['Crystal Structure'][i] = 4"
      ],
      "metadata": {
        "colab": {
          "base_uri": "https://localhost:8080/"
        },
        "id": "ArG1mZ75wybU",
        "outputId": "f239cd7f-78ce-48a1-8127-e487e7271a5b"
      },
      "execution_count": 115,
      "outputs": [
        {
          "output_type": "stream",
          "name": "stderr",
          "text": [
            "<ipython-input-115-b08b9421252e>:3: SettingWithCopyWarning: \n",
            "A value is trying to be set on a copy of a slice from a DataFrame\n",
            "\n",
            "See the caveats in the documentation: https://pandas.pydata.org/pandas-docs/stable/user_guide/indexing.html#returning-a-view-versus-a-copy\n",
            "  test['Crystal Structure'][i] = 4\n"
          ]
        }
      ]
    },
    {
      "cell_type": "code",
      "source": [
        "test['Specific Gravity'] = (test['Specific Gravity']-test['Specific Gravity'].min())/(test['Specific Gravity'].max()-test['Specific Gravity'].min())"
      ],
      "metadata": {
        "id": "zebArxWGw1po"
      },
      "execution_count": 116,
      "outputs": []
    },
    {
      "cell_type": "code",
      "source": [
        "for i in range(len(test['Optical'])):\n",
        "  if test['Optical'][i] == 1:\n",
        "    test['Optical'][i] = 2"
      ],
      "metadata": {
        "colab": {
          "base_uri": "https://localhost:8080/"
        },
        "id": "LY1pE00Ww3Cn",
        "outputId": "667c0cc5-5cc3-4a48-8d34-27ec4fab6c4d"
      },
      "execution_count": 117,
      "outputs": [
        {
          "output_type": "stream",
          "name": "stderr",
          "text": [
            "<ipython-input-117-2093f86a0f03>:3: SettingWithCopyWarning: \n",
            "A value is trying to be set on a copy of a slice from a DataFrame\n",
            "\n",
            "See the caveats in the documentation: https://pandas.pydata.org/pandas-docs/stable/user_guide/indexing.html#returning-a-view-versus-a-copy\n",
            "  test['Optical'][i] = 2\n"
          ]
        }
      ]
    },
    {
      "cell_type": "code",
      "source": [
        "test['Dispersion'] = (test['Dispersion']-test['Dispersion'].min())/(test['Dispersion'].max()-test['Dispersion'].min())"
      ],
      "metadata": {
        "id": "9bhC-3HZZC8k"
      },
      "execution_count": 118,
      "outputs": []
    },
    {
      "cell_type": "code",
      "source": [
        "for i in range(len(test['Hydrated Water'])):\n",
        "  if test['Hydrated Water'][i] != 0:\n",
        "    test['Hydrated Water'][i] = 1"
      ],
      "metadata": {
        "colab": {
          "base_uri": "https://localhost:8080/"
        },
        "id": "scE_igmfw4Os",
        "outputId": "f2f5faad-b875-431d-c5b2-7254b979b210"
      },
      "execution_count": 119,
      "outputs": [
        {
          "output_type": "stream",
          "name": "stderr",
          "text": [
            "<ipython-input-119-d72087f1200f>:3: SettingWithCopyWarning: \n",
            "A value is trying to be set on a copy of a slice from a DataFrame\n",
            "\n",
            "See the caveats in the documentation: https://pandas.pydata.org/pandas-docs/stable/user_guide/indexing.html#returning-a-view-versus-a-copy\n",
            "  test['Hydrated Water'][i] = 1\n"
          ]
        }
      ]
    },
    {
      "cell_type": "code",
      "source": [
        "test['count'] = (test['count']-test['count'].min())/(test['count'].max()-test['count'].min())"
      ],
      "metadata": {
        "id": "wEW6tcMiw5ya"
      },
      "execution_count": 120,
      "outputs": []
    },
    {
      "cell_type": "code",
      "source": [
        "test['Calculated Density'] = (test['Calculated Density']-test['Calculated Density'].min())/(test['Calculated Density'].max()-test['Calculated Density'].min())"
      ],
      "metadata": {
        "id": "Bw1jXQ3Ww7fw"
      },
      "execution_count": 121,
      "outputs": []
    },
    {
      "cell_type": "code",
      "source": [
        "test['Molar Mass'] = (test['Molar Mass']-test['Molar Mass'].min())/(test['Molar Mass'].max()-test['Molar Mass'].min())"
      ],
      "metadata": {
        "id": "eOYRTePFJRLp"
      },
      "execution_count": 122,
      "outputs": []
    },
    {
      "cell_type": "code",
      "source": [
        "test['Molar Volume'] = (test['Molar Volume']-test['Molar Volume'].min())/(test['Molar Volume'].max()-test['Molar Volume'].min())"
      ],
      "metadata": {
        "id": "wCq269FXJTTZ"
      },
      "execution_count": 123,
      "outputs": []
    },
    {
      "cell_type": "code",
      "source": [
        "test['Hydrogen'] = (test['Hydrogen']-test['Hydrogen'].min())/(test['Hydrogen'].max()-test['Hydrogen'].min())"
      ],
      "metadata": {
        "id": "Hxxm8tcOJU2q"
      },
      "execution_count": 124,
      "outputs": []
    },
    {
      "cell_type": "code",
      "source": [
        "test['Oxygen'] = (test['Oxygen']-test['Oxygen'].min())/(test['Oxygen'].max()-test['Oxygen'].min())"
      ],
      "metadata": {
        "id": "kB7Ll7dMJZKS"
      },
      "execution_count": 125,
      "outputs": []
    },
    {
      "cell_type": "code",
      "source": [
        "test['Silicon'] = (test['Silicon']-test['Silicon'].min())/(test['Silicon'].max()-test['Silicon'].min())"
      ],
      "metadata": {
        "id": "RbwjpiKaJbwQ"
      },
      "execution_count": 126,
      "outputs": []
    },
    {
      "cell_type": "code",
      "source": [
        "test['Calcium'] = (test['Calcium']-test['Calcium'].min())/(test['Calcium'].max()-test['Calcium'].min())"
      ],
      "metadata": {
        "id": "6GAPxgnfJc8l"
      },
      "execution_count": 127,
      "outputs": []
    },
    {
      "cell_type": "code",
      "source": [
        "test['Iron'] = (test['Iron']-test['Iron'].min())/(test['Iron'].max()-test['Iron'].min())"
      ],
      "metadata": {
        "id": "6YUCqQTTJelr"
      },
      "execution_count": 128,
      "outputs": []
    },
    {
      "cell_type": "code",
      "source": [
        "test.describe()"
      ],
      "metadata": {
        "colab": {
          "base_uri": "https://localhost:8080/",
          "height": 381
        },
        "id": "ls6_kk6-w-ZF",
        "outputId": "cd0d2b08-3c5c-45d4-fb41-cfadd3b97682"
      },
      "execution_count": 129,
      "outputs": [
        {
          "output_type": "execute_result",
          "data": {
            "text/plain": [
              "       Crystal Structure  Diaphaneity  Specific Gravity     Optical  \\\n",
              "count         150.000000   150.000000        150.000000  150.000000   \n",
              "mean            2.633333     1.500000          0.259270    2.646667   \n",
              "std             1.467394     1.021579          0.208704    1.703280   \n",
              "min             0.000000     0.000000          0.000000    0.000000   \n",
              "25%             2.000000     0.250000          0.000000    0.000000   \n",
              "50%             2.000000     2.000000          0.287710    4.000000   \n",
              "75%             4.000000     2.000000          0.365709    4.000000   \n",
              "max             5.000000     3.000000          1.000000    4.000000   \n",
              "\n",
              "       Dispersion    Hydrogen      Oxygen    Silicon     Calcium        Iron  \\\n",
              "count  150.000000  150.000000  150.000000  150.00000  150.000000  150.000000   \n",
              "mean     0.016848    0.045208    0.183860    0.06750    0.094667    0.025000   \n",
              "std      0.112969    0.128492    0.168572    0.14236    0.161697    0.093855   \n",
              "min      0.000000    0.000000    0.000000    0.00000    0.000000    0.000000   \n",
              "25%      0.000000    0.000000    0.078947    0.00000    0.000000    0.000000   \n",
              "50%      0.000000    0.000000    0.131579    0.00000    0.000000    0.000000   \n",
              "75%      0.000000    0.031250    0.210526    0.06250    0.200000    0.000000   \n",
              "max      1.000000    1.000000    1.000000    1.00000    1.000000    1.000000   \n",
              "\n",
              "       Hydrated Water       count  Molar Mass  Molar Volume  \\\n",
              "count      150.000000  150.000000  150.000000    150.000000   \n",
              "mean         0.186667    0.181039    0.192010      0.130668   \n",
              "std          0.390949    0.181358    0.171343      0.152533   \n",
              "min          0.000000    0.000000    0.000000      0.000000   \n",
              "25%          0.000000    0.064935    0.090305      0.038218   \n",
              "50%          0.000000    0.129870    0.140628      0.084801   \n",
              "75%          0.000000    0.220779    0.242022      0.152596   \n",
              "max          1.000000    1.000000    1.000000      1.000000   \n",
              "\n",
              "       Calculated Density  \n",
              "count          150.000000  \n",
              "mean             0.319084  \n",
              "std              0.220167  \n",
              "min              0.000000  \n",
              "25%              0.171556  \n",
              "50%              0.256115  \n",
              "75%              0.442564  \n",
              "max              1.000000  "
            ],
            "text/html": [
              "\n",
              "  <div id=\"df-1ab475ac-a620-40d6-a05d-58485fd33984\">\n",
              "    <div class=\"colab-df-container\">\n",
              "      <div>\n",
              "<style scoped>\n",
              "    .dataframe tbody tr th:only-of-type {\n",
              "        vertical-align: middle;\n",
              "    }\n",
              "\n",
              "    .dataframe tbody tr th {\n",
              "        vertical-align: top;\n",
              "    }\n",
              "\n",
              "    .dataframe thead th {\n",
              "        text-align: right;\n",
              "    }\n",
              "</style>\n",
              "<table border=\"1\" class=\"dataframe\">\n",
              "  <thead>\n",
              "    <tr style=\"text-align: right;\">\n",
              "      <th></th>\n",
              "      <th>Crystal Structure</th>\n",
              "      <th>Diaphaneity</th>\n",
              "      <th>Specific Gravity</th>\n",
              "      <th>Optical</th>\n",
              "      <th>Dispersion</th>\n",
              "      <th>Hydrogen</th>\n",
              "      <th>Oxygen</th>\n",
              "      <th>Silicon</th>\n",
              "      <th>Calcium</th>\n",
              "      <th>Iron</th>\n",
              "      <th>Hydrated Water</th>\n",
              "      <th>count</th>\n",
              "      <th>Molar Mass</th>\n",
              "      <th>Molar Volume</th>\n",
              "      <th>Calculated Density</th>\n",
              "    </tr>\n",
              "  </thead>\n",
              "  <tbody>\n",
              "    <tr>\n",
              "      <th>count</th>\n",
              "      <td>150.000000</td>\n",
              "      <td>150.000000</td>\n",
              "      <td>150.000000</td>\n",
              "      <td>150.000000</td>\n",
              "      <td>150.000000</td>\n",
              "      <td>150.000000</td>\n",
              "      <td>150.000000</td>\n",
              "      <td>150.00000</td>\n",
              "      <td>150.000000</td>\n",
              "      <td>150.000000</td>\n",
              "      <td>150.000000</td>\n",
              "      <td>150.000000</td>\n",
              "      <td>150.000000</td>\n",
              "      <td>150.000000</td>\n",
              "      <td>150.000000</td>\n",
              "    </tr>\n",
              "    <tr>\n",
              "      <th>mean</th>\n",
              "      <td>2.633333</td>\n",
              "      <td>1.500000</td>\n",
              "      <td>0.259270</td>\n",
              "      <td>2.646667</td>\n",
              "      <td>0.016848</td>\n",
              "      <td>0.045208</td>\n",
              "      <td>0.183860</td>\n",
              "      <td>0.06750</td>\n",
              "      <td>0.094667</td>\n",
              "      <td>0.025000</td>\n",
              "      <td>0.186667</td>\n",
              "      <td>0.181039</td>\n",
              "      <td>0.192010</td>\n",
              "      <td>0.130668</td>\n",
              "      <td>0.319084</td>\n",
              "    </tr>\n",
              "    <tr>\n",
              "      <th>std</th>\n",
              "      <td>1.467394</td>\n",
              "      <td>1.021579</td>\n",
              "      <td>0.208704</td>\n",
              "      <td>1.703280</td>\n",
              "      <td>0.112969</td>\n",
              "      <td>0.128492</td>\n",
              "      <td>0.168572</td>\n",
              "      <td>0.14236</td>\n",
              "      <td>0.161697</td>\n",
              "      <td>0.093855</td>\n",
              "      <td>0.390949</td>\n",
              "      <td>0.181358</td>\n",
              "      <td>0.171343</td>\n",
              "      <td>0.152533</td>\n",
              "      <td>0.220167</td>\n",
              "    </tr>\n",
              "    <tr>\n",
              "      <th>min</th>\n",
              "      <td>0.000000</td>\n",
              "      <td>0.000000</td>\n",
              "      <td>0.000000</td>\n",
              "      <td>0.000000</td>\n",
              "      <td>0.000000</td>\n",
              "      <td>0.000000</td>\n",
              "      <td>0.000000</td>\n",
              "      <td>0.00000</td>\n",
              "      <td>0.000000</td>\n",
              "      <td>0.000000</td>\n",
              "      <td>0.000000</td>\n",
              "      <td>0.000000</td>\n",
              "      <td>0.000000</td>\n",
              "      <td>0.000000</td>\n",
              "      <td>0.000000</td>\n",
              "    </tr>\n",
              "    <tr>\n",
              "      <th>25%</th>\n",
              "      <td>2.000000</td>\n",
              "      <td>0.250000</td>\n",
              "      <td>0.000000</td>\n",
              "      <td>0.000000</td>\n",
              "      <td>0.000000</td>\n",
              "      <td>0.000000</td>\n",
              "      <td>0.078947</td>\n",
              "      <td>0.00000</td>\n",
              "      <td>0.000000</td>\n",
              "      <td>0.000000</td>\n",
              "      <td>0.000000</td>\n",
              "      <td>0.064935</td>\n",
              "      <td>0.090305</td>\n",
              "      <td>0.038218</td>\n",
              "      <td>0.171556</td>\n",
              "    </tr>\n",
              "    <tr>\n",
              "      <th>50%</th>\n",
              "      <td>2.000000</td>\n",
              "      <td>2.000000</td>\n",
              "      <td>0.287710</td>\n",
              "      <td>4.000000</td>\n",
              "      <td>0.000000</td>\n",
              "      <td>0.000000</td>\n",
              "      <td>0.131579</td>\n",
              "      <td>0.00000</td>\n",
              "      <td>0.000000</td>\n",
              "      <td>0.000000</td>\n",
              "      <td>0.000000</td>\n",
              "      <td>0.129870</td>\n",
              "      <td>0.140628</td>\n",
              "      <td>0.084801</td>\n",
              "      <td>0.256115</td>\n",
              "    </tr>\n",
              "    <tr>\n",
              "      <th>75%</th>\n",
              "      <td>4.000000</td>\n",
              "      <td>2.000000</td>\n",
              "      <td>0.365709</td>\n",
              "      <td>4.000000</td>\n",
              "      <td>0.000000</td>\n",
              "      <td>0.031250</td>\n",
              "      <td>0.210526</td>\n",
              "      <td>0.06250</td>\n",
              "      <td>0.200000</td>\n",
              "      <td>0.000000</td>\n",
              "      <td>0.000000</td>\n",
              "      <td>0.220779</td>\n",
              "      <td>0.242022</td>\n",
              "      <td>0.152596</td>\n",
              "      <td>0.442564</td>\n",
              "    </tr>\n",
              "    <tr>\n",
              "      <th>max</th>\n",
              "      <td>5.000000</td>\n",
              "      <td>3.000000</td>\n",
              "      <td>1.000000</td>\n",
              "      <td>4.000000</td>\n",
              "      <td>1.000000</td>\n",
              "      <td>1.000000</td>\n",
              "      <td>1.000000</td>\n",
              "      <td>1.00000</td>\n",
              "      <td>1.000000</td>\n",
              "      <td>1.000000</td>\n",
              "      <td>1.000000</td>\n",
              "      <td>1.000000</td>\n",
              "      <td>1.000000</td>\n",
              "      <td>1.000000</td>\n",
              "      <td>1.000000</td>\n",
              "    </tr>\n",
              "  </tbody>\n",
              "</table>\n",
              "</div>\n",
              "      <button class=\"colab-df-convert\" onclick=\"convertToInteractive('df-1ab475ac-a620-40d6-a05d-58485fd33984')\"\n",
              "              title=\"Convert this dataframe to an interactive table.\"\n",
              "              style=\"display:none;\">\n",
              "        \n",
              "  <svg xmlns=\"http://www.w3.org/2000/svg\" height=\"24px\"viewBox=\"0 0 24 24\"\n",
              "       width=\"24px\">\n",
              "    <path d=\"M0 0h24v24H0V0z\" fill=\"none\"/>\n",
              "    <path d=\"M18.56 5.44l.94 2.06.94-2.06 2.06-.94-2.06-.94-.94-2.06-.94 2.06-2.06.94zm-11 1L8.5 8.5l.94-2.06 2.06-.94-2.06-.94L8.5 2.5l-.94 2.06-2.06.94zm10 10l.94 2.06.94-2.06 2.06-.94-2.06-.94-.94-2.06-.94 2.06-2.06.94z\"/><path d=\"M17.41 7.96l-1.37-1.37c-.4-.4-.92-.59-1.43-.59-.52 0-1.04.2-1.43.59L10.3 9.45l-7.72 7.72c-.78.78-.78 2.05 0 2.83L4 21.41c.39.39.9.59 1.41.59.51 0 1.02-.2 1.41-.59l7.78-7.78 2.81-2.81c.8-.78.8-2.07 0-2.86zM5.41 20L4 18.59l7.72-7.72 1.47 1.35L5.41 20z\"/>\n",
              "  </svg>\n",
              "      </button>\n",
              "      \n",
              "  <style>\n",
              "    .colab-df-container {\n",
              "      display:flex;\n",
              "      flex-wrap:wrap;\n",
              "      gap: 12px;\n",
              "    }\n",
              "\n",
              "    .colab-df-convert {\n",
              "      background-color: #E8F0FE;\n",
              "      border: none;\n",
              "      border-radius: 50%;\n",
              "      cursor: pointer;\n",
              "      display: none;\n",
              "      fill: #1967D2;\n",
              "      height: 32px;\n",
              "      padding: 0 0 0 0;\n",
              "      width: 32px;\n",
              "    }\n",
              "\n",
              "    .colab-df-convert:hover {\n",
              "      background-color: #E2EBFA;\n",
              "      box-shadow: 0px 1px 2px rgba(60, 64, 67, 0.3), 0px 1px 3px 1px rgba(60, 64, 67, 0.15);\n",
              "      fill: #174EA6;\n",
              "    }\n",
              "\n",
              "    [theme=dark] .colab-df-convert {\n",
              "      background-color: #3B4455;\n",
              "      fill: #D2E3FC;\n",
              "    }\n",
              "\n",
              "    [theme=dark] .colab-df-convert:hover {\n",
              "      background-color: #434B5C;\n",
              "      box-shadow: 0px 1px 3px 1px rgba(0, 0, 0, 0.15);\n",
              "      filter: drop-shadow(0px 1px 2px rgba(0, 0, 0, 0.3));\n",
              "      fill: #FFFFFF;\n",
              "    }\n",
              "  </style>\n",
              "\n",
              "      <script>\n",
              "        const buttonEl =\n",
              "          document.querySelector('#df-1ab475ac-a620-40d6-a05d-58485fd33984 button.colab-df-convert');\n",
              "        buttonEl.style.display =\n",
              "          google.colab.kernel.accessAllowed ? 'block' : 'none';\n",
              "\n",
              "        async function convertToInteractive(key) {\n",
              "          const element = document.querySelector('#df-1ab475ac-a620-40d6-a05d-58485fd33984');\n",
              "          const dataTable =\n",
              "            await google.colab.kernel.invokeFunction('convertToInteractive',\n",
              "                                                     [key], {});\n",
              "          if (!dataTable) return;\n",
              "\n",
              "          const docLinkHtml = 'Like what you see? Visit the ' +\n",
              "            '<a target=\"_blank\" href=https://colab.research.google.com/notebooks/data_table.ipynb>data table notebook</a>'\n",
              "            + ' to learn more about interactive tables.';\n",
              "          element.innerHTML = '';\n",
              "          dataTable['output_type'] = 'display_data';\n",
              "          await google.colab.output.renderOutput(dataTable, element);\n",
              "          const docLink = document.createElement('div');\n",
              "          docLink.innerHTML = docLinkHtml;\n",
              "          element.appendChild(docLink);\n",
              "        }\n",
              "      </script>\n",
              "    </div>\n",
              "  </div>\n",
              "  "
            ]
          },
          "metadata": {},
          "execution_count": 129
        }
      ]
    },
    {
      "cell_type": "code",
      "source": [
        "# running the model on actual test file\n",
        "y_pred_test = model.predict(test)"
      ],
      "metadata": {
        "id": "1U8yPhhiw_tL"
      },
      "execution_count": 130,
      "outputs": []
    },
    {
      "cell_type": "code",
      "source": [
        "for i in range(len(y_pred_test)):\n",
        "  if y_pred_test[i] < 0:\n",
        "    y_pred_test[i] = 0"
      ],
      "metadata": {
        "id": "3J_344CgxBgE"
      },
      "execution_count": 131,
      "outputs": []
    },
    {
      "cell_type": "code",
      "source": [
        "y_pred_test"
      ],
      "metadata": {
        "colab": {
          "base_uri": "https://localhost:8080/"
        },
        "id": "1Ng97CePxDWB",
        "outputId": "c52e8eb2-6d46-4e22-8304-12eb9ea3336b"
      },
      "execution_count": 132,
      "outputs": [
        {
          "output_type": "execute_result",
          "data": {
            "text/plain": [
              "array([0.0722, 1.5199, 1.5923, 1.5712, 1.5639, 1.9784, 1.5712, 1.8092,\n",
              "       0.0333, 1.5923, 0.0333, 0.0333, 1.5272, 2.006 , 0.0374, 1.5923,\n",
              "       1.6455, 1.5923, 1.5753, 0.0027, 1.6756, 1.7702, 1.5867, 0.0333,\n",
              "       1.7252, 1.6855, 1.5923, 0.0333, 1.6855, 1.5639, 1.6781, 1.5712,\n",
              "       1.585 , 0.0544, 1.5751, 1.5712, 1.6065, 1.7743, 1.5555, 1.5712,\n",
              "       1.5712, 1.6855, 1.5406, 1.5712, 1.5639, 1.5819, 0.3444, 1.7292,\n",
              "       1.5712, 1.5712, 1.5867, 0.0374, 0.1402, 0.1055, 1.5639, 1.5923,\n",
              "       1.5639, 1.7252, 0.0333, 0.0027, 0.0951, 1.7898, 0.0374, 1.7743,\n",
              "       0.0374, 1.6781, 1.6781, 1.4996, 0.1476, 1.5639, 0.    , 1.6781,\n",
              "       1.6245, 1.7702, 0.0333, 1.568 , 0.0374, 1.8214, 1.5712, 0.0333,\n",
              "       1.9256, 1.5923, 1.6434, 0.0333, 1.7743, 1.5712, 1.5639, 1.6093,\n",
              "       0.0374, 1.7437, 1.6102, 1.7948, 1.6434, 1.7629, 1.5406, 0.0333,\n",
              "       0.0027, 1.7702, 2.0133, 1.568 , 0.0333, 1.5712, 0.0333, 0.0722,\n",
              "       1.5753, 0.0333, 0.0333, 1.6161, 0.0333, 0.0333, 1.6781, 1.5712,\n",
              "       0.0333, 1.5712, 1.5923, 1.5406, 1.7282, 0.033 , 1.6434, 1.7743,\n",
              "       1.7629, 0.4754, 1.5923, 1.5712, 1.692 , 1.6361, 1.6781, 1.5406,\n",
              "       1.5712, 1.5923, 1.6239, 1.5272, 1.5199, 2.2221, 0.0333, 1.6434,\n",
              "       1.585 , 1.5891, 2.0133, 0.0333, 1.5712, 1.7857, 1.5639, 2.5532,\n",
              "       1.6855, 0.0333, 0.0333, 1.6781, 1.7702, 0.0333])"
            ]
          },
          "metadata": {},
          "execution_count": 132
        }
      ]
    },
    {
      "cell_type": "code",
      "source": [
        "y_pred_test_list = ['%.3f' % elem for elem in list(y_pred_test)]\n",
        "submission = pd.DataFrame(list(zip(list(names), y_pred_test_list)), columns =['Name', 'Refractive Index'])\n",
        "submission"
      ],
      "metadata": {
        "colab": {
          "base_uri": "https://localhost:8080/",
          "height": 423
        },
        "id": "rVEBUm4LxFsy",
        "outputId": "21d148a4-d826-40b4-b7eb-4ac23fbaae48"
      },
      "execution_count": 133,
      "outputs": [
        {
          "output_type": "execute_result",
          "data": {
            "text/plain": [
              "              Name Refractive Index\n",
              "0      Bridgmanite            0.072\n",
              "1       Ettringite            1.520\n",
              "2        Krohnkite            1.592\n",
              "3    Kainosite-(Y)            1.571\n",
              "4     Poudretteite            1.564\n",
              "..             ...              ...\n",
              "145         Nosean            0.033\n",
              "146        Santite            0.033\n",
              "147      Kottigite            1.678\n",
              "148      Tungstite            1.770\n",
              "149      Wagnerite            0.033\n",
              "\n",
              "[150 rows x 2 columns]"
            ],
            "text/html": [
              "\n",
              "  <div id=\"df-1bf1dae8-1399-40d2-9a46-f54d98f6465c\">\n",
              "    <div class=\"colab-df-container\">\n",
              "      <div>\n",
              "<style scoped>\n",
              "    .dataframe tbody tr th:only-of-type {\n",
              "        vertical-align: middle;\n",
              "    }\n",
              "\n",
              "    .dataframe tbody tr th {\n",
              "        vertical-align: top;\n",
              "    }\n",
              "\n",
              "    .dataframe thead th {\n",
              "        text-align: right;\n",
              "    }\n",
              "</style>\n",
              "<table border=\"1\" class=\"dataframe\">\n",
              "  <thead>\n",
              "    <tr style=\"text-align: right;\">\n",
              "      <th></th>\n",
              "      <th>Name</th>\n",
              "      <th>Refractive Index</th>\n",
              "    </tr>\n",
              "  </thead>\n",
              "  <tbody>\n",
              "    <tr>\n",
              "      <th>0</th>\n",
              "      <td>Bridgmanite</td>\n",
              "      <td>0.072</td>\n",
              "    </tr>\n",
              "    <tr>\n",
              "      <th>1</th>\n",
              "      <td>Ettringite</td>\n",
              "      <td>1.520</td>\n",
              "    </tr>\n",
              "    <tr>\n",
              "      <th>2</th>\n",
              "      <td>Krohnkite</td>\n",
              "      <td>1.592</td>\n",
              "    </tr>\n",
              "    <tr>\n",
              "      <th>3</th>\n",
              "      <td>Kainosite-(Y)</td>\n",
              "      <td>1.571</td>\n",
              "    </tr>\n",
              "    <tr>\n",
              "      <th>4</th>\n",
              "      <td>Poudretteite</td>\n",
              "      <td>1.564</td>\n",
              "    </tr>\n",
              "    <tr>\n",
              "      <th>...</th>\n",
              "      <td>...</td>\n",
              "      <td>...</td>\n",
              "    </tr>\n",
              "    <tr>\n",
              "      <th>145</th>\n",
              "      <td>Nosean</td>\n",
              "      <td>0.033</td>\n",
              "    </tr>\n",
              "    <tr>\n",
              "      <th>146</th>\n",
              "      <td>Santite</td>\n",
              "      <td>0.033</td>\n",
              "    </tr>\n",
              "    <tr>\n",
              "      <th>147</th>\n",
              "      <td>Kottigite</td>\n",
              "      <td>1.678</td>\n",
              "    </tr>\n",
              "    <tr>\n",
              "      <th>148</th>\n",
              "      <td>Tungstite</td>\n",
              "      <td>1.770</td>\n",
              "    </tr>\n",
              "    <tr>\n",
              "      <th>149</th>\n",
              "      <td>Wagnerite</td>\n",
              "      <td>0.033</td>\n",
              "    </tr>\n",
              "  </tbody>\n",
              "</table>\n",
              "<p>150 rows × 2 columns</p>\n",
              "</div>\n",
              "      <button class=\"colab-df-convert\" onclick=\"convertToInteractive('df-1bf1dae8-1399-40d2-9a46-f54d98f6465c')\"\n",
              "              title=\"Convert this dataframe to an interactive table.\"\n",
              "              style=\"display:none;\">\n",
              "        \n",
              "  <svg xmlns=\"http://www.w3.org/2000/svg\" height=\"24px\"viewBox=\"0 0 24 24\"\n",
              "       width=\"24px\">\n",
              "    <path d=\"M0 0h24v24H0V0z\" fill=\"none\"/>\n",
              "    <path d=\"M18.56 5.44l.94 2.06.94-2.06 2.06-.94-2.06-.94-.94-2.06-.94 2.06-2.06.94zm-11 1L8.5 8.5l.94-2.06 2.06-.94-2.06-.94L8.5 2.5l-.94 2.06-2.06.94zm10 10l.94 2.06.94-2.06 2.06-.94-2.06-.94-.94-2.06-.94 2.06-2.06.94z\"/><path d=\"M17.41 7.96l-1.37-1.37c-.4-.4-.92-.59-1.43-.59-.52 0-1.04.2-1.43.59L10.3 9.45l-7.72 7.72c-.78.78-.78 2.05 0 2.83L4 21.41c.39.39.9.59 1.41.59.51 0 1.02-.2 1.41-.59l7.78-7.78 2.81-2.81c.8-.78.8-2.07 0-2.86zM5.41 20L4 18.59l7.72-7.72 1.47 1.35L5.41 20z\"/>\n",
              "  </svg>\n",
              "      </button>\n",
              "      \n",
              "  <style>\n",
              "    .colab-df-container {\n",
              "      display:flex;\n",
              "      flex-wrap:wrap;\n",
              "      gap: 12px;\n",
              "    }\n",
              "\n",
              "    .colab-df-convert {\n",
              "      background-color: #E8F0FE;\n",
              "      border: none;\n",
              "      border-radius: 50%;\n",
              "      cursor: pointer;\n",
              "      display: none;\n",
              "      fill: #1967D2;\n",
              "      height: 32px;\n",
              "      padding: 0 0 0 0;\n",
              "      width: 32px;\n",
              "    }\n",
              "\n",
              "    .colab-df-convert:hover {\n",
              "      background-color: #E2EBFA;\n",
              "      box-shadow: 0px 1px 2px rgba(60, 64, 67, 0.3), 0px 1px 3px 1px rgba(60, 64, 67, 0.15);\n",
              "      fill: #174EA6;\n",
              "    }\n",
              "\n",
              "    [theme=dark] .colab-df-convert {\n",
              "      background-color: #3B4455;\n",
              "      fill: #D2E3FC;\n",
              "    }\n",
              "\n",
              "    [theme=dark] .colab-df-convert:hover {\n",
              "      background-color: #434B5C;\n",
              "      box-shadow: 0px 1px 3px 1px rgba(0, 0, 0, 0.15);\n",
              "      filter: drop-shadow(0px 1px 2px rgba(0, 0, 0, 0.3));\n",
              "      fill: #FFFFFF;\n",
              "    }\n",
              "  </style>\n",
              "\n",
              "      <script>\n",
              "        const buttonEl =\n",
              "          document.querySelector('#df-1bf1dae8-1399-40d2-9a46-f54d98f6465c button.colab-df-convert');\n",
              "        buttonEl.style.display =\n",
              "          google.colab.kernel.accessAllowed ? 'block' : 'none';\n",
              "\n",
              "        async function convertToInteractive(key) {\n",
              "          const element = document.querySelector('#df-1bf1dae8-1399-40d2-9a46-f54d98f6465c');\n",
              "          const dataTable =\n",
              "            await google.colab.kernel.invokeFunction('convertToInteractive',\n",
              "                                                     [key], {});\n",
              "          if (!dataTable) return;\n",
              "\n",
              "          const docLinkHtml = 'Like what you see? Visit the ' +\n",
              "            '<a target=\"_blank\" href=https://colab.research.google.com/notebooks/data_table.ipynb>data table notebook</a>'\n",
              "            + ' to learn more about interactive tables.';\n",
              "          element.innerHTML = '';\n",
              "          dataTable['output_type'] = 'display_data';\n",
              "          await google.colab.output.renderOutput(dataTable, element);\n",
              "          const docLink = document.createElement('div');\n",
              "          docLink.innerHTML = docLinkHtml;\n",
              "          element.appendChild(docLink);\n",
              "        }\n",
              "      </script>\n",
              "    </div>\n",
              "  </div>\n",
              "  "
            ]
          },
          "metadata": {},
          "execution_count": 133
        }
      ]
    },
    {
      "cell_type": "code",
      "source": [
        "# converting the DataFrame to an ouput.csv file\n",
        "submission.to_csv('output.csv', index=False)"
      ],
      "metadata": {
        "id": "RBMDxn5jxJNj"
      },
      "execution_count": 134,
      "outputs": []
    },
    {
      "cell_type": "code",
      "source": [],
      "metadata": {
        "id": "LhA-kdwAxV0n"
      },
      "execution_count": null,
      "outputs": []
    }
  ]
}